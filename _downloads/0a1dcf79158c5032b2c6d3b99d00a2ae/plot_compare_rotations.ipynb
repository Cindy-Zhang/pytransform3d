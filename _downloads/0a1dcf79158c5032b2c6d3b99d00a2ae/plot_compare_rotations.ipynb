{
  "cells": [
    {
      "cell_type": "code",
      "execution_count": null,
      "metadata": {
        "collapsed": false
      },
      "outputs": [],
      "source": [
        "%matplotlib inline"
      ]
    },
    {
      "cell_type": "markdown",
      "metadata": {},
      "source": [
        "\n# Compare Various Definitions of Rotations\n"
      ]
    },
    {
      "cell_type": "code",
      "execution_count": null,
      "metadata": {
        "collapsed": false
      },
      "outputs": [],
      "source": [
        "print(__doc__)\n\n\nimport numpy as np\nimport matplotlib.pyplot as plt\nfrom mpl_toolkits.mplot3d import Axes3D\nfrom pytransform3d.rotations import *\n\n\nax = plot_basis(R=np.eye(3), ax_s=2)\naxis = 0\nangle = np.pi / 2\n\np = np.array([1.0, 1.0, 1.0])\neuler = [0, 0, 0]\neuler[axis] = angle\nR = matrix_from_euler_xyz(euler)\nplot_basis(ax, R, p)\n\np = np.array([1.0, -1.0, 1.0])\neuler = [0, 0, 0]\neuler[2 - axis] = angle\nR = matrix_from_euler_zyx(euler)\nplot_basis(ax, R, p)\n\np = np.array([1.0, 1.0, -1.0])\nR = matrix_from_angle(axis, angle)\nplot_basis(ax, R, p)\n\np = np.array([1.0, -1.0, -1.0])\ne = [unitx, unity, unitz][axis]\na = np.hstack((e, (angle,)))\nR = matrix_from_axis_angle(a)\nplot_basis(ax, R, p)\nplot_axis_angle(ax, a, p, s=0.5)\n\np = np.array([-1.0, -1.0, -1.0])\nq = quaternion_from_axis_angle(a)\nR = matrix_from_quaternion(q)\nplot_basis(ax, R, p)\n\nplt.show()"
      ]
    }
  ],
  "metadata": {
    "kernelspec": {
      "display_name": "Python 3",
      "language": "python",
      "name": "python3"
    },
    "language_info": {
      "codemirror_mode": {
        "name": "ipython",
        "version": 3
      },
      "file_extension": ".py",
      "mimetype": "text/x-python",
      "name": "python",
      "nbconvert_exporter": "python",
      "pygments_lexer": "ipython3",
      "version": "3.7.3"
    }
  },
  "nbformat": 4,
  "nbformat_minor": 0
}