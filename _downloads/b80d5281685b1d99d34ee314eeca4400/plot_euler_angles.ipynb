{
  "cells": [
    {
      "cell_type": "code",
      "execution_count": null,
      "metadata": {
        "collapsed": false
      },
      "outputs": [],
      "source": [
        "%matplotlib inline"
      ]
    },
    {
      "cell_type": "markdown",
      "metadata": {},
      "source": [
        "\n# Euler Angles\n\nAny rotation can be represented by three consecutive rotations about three\nbasis vectors. Here we use either the x-y-z convention or the z-y-x convention.\n"
      ]
    },
    {
      "cell_type": "code",
      "execution_count": null,
      "metadata": {
        "collapsed": false
      },
      "outputs": [],
      "source": [
        "print(__doc__)\n\n\nimport numpy as np\nimport matplotlib.pyplot as plt\nfrom mpl_toolkits.mplot3d import Axes3D\nfrom pytransform3d.rotations import *\n\n\nax = plot_basis(R=np.eye(3), ax_s=2)\nalpha, beta, gamma = np.pi, np.pi, np.pi\n\np = np.array([0.6, 0.4, 0.4])\nR = matrix_from_euler_xyz([alpha, 0, 0])\nplot_basis(ax, R, p)\nR = matrix_from_euler_xyz([alpha, beta, 0])\nplot_basis(ax, R, 2 * p)\nR = matrix_from_euler_xyz([alpha, beta, gamma])\nplot_basis(ax, R, 3 * p)\n\np = np.array([0.4, 0.6, 0.4])\nR = matrix_from_euler_zyx([alpha, 0, 0])\nplot_basis(ax, R, p, alpha=0.5)\nR = matrix_from_euler_zyx([alpha, beta, 0])\nplot_basis(ax, R, 2 * p, alpha=0.5)\nR = matrix_from_euler_zyx([alpha, beta, gamma])\nplot_basis(ax, R, 3 * p, alpha=0.5)\n\nplt.show()"
      ]
    }
  ],
  "metadata": {
    "kernelspec": {
      "display_name": "Python 3",
      "language": "python",
      "name": "python3"
    },
    "language_info": {
      "codemirror_mode": {
        "name": "ipython",
        "version": 3
      },
      "file_extension": ".py",
      "mimetype": "text/x-python",
      "name": "python",
      "nbconvert_exporter": "python",
      "pygments_lexer": "ipython3",
      "version": "3.7.3"
    }
  },
  "nbformat": 4,
  "nbformat_minor": 0
}