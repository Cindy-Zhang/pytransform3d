{
  "cells": [
    {
      "cell_type": "code",
      "execution_count": null,
      "metadata": {
        "collapsed": false
      },
      "outputs": [],
      "source": [
        "%matplotlib inline"
      ]
    },
    {
      "cell_type": "markdown",
      "metadata": {},
      "source": [
        "\n# Transformation Manager\n\nIn this example, we will use the TransformManager to infer a transformation\nautomatically.\n"
      ]
    },
    {
      "cell_type": "code",
      "execution_count": null,
      "metadata": {
        "collapsed": false
      },
      "outputs": [],
      "source": [
        "print(__doc__)\n\n\nimport numpy as np\nimport matplotlib.pyplot as plt\nfrom pytransform3d.rotations import (random_quaternion, matrix_from_euler_xyz,\n                                     q_id)\nfrom pytransform3d.transformations import transform_from_pq, transform_from\nfrom pytransform3d.transform_manager import TransformManager\n\n\nrandom_state = np.random.RandomState(0)\n\nee2robot = transform_from_pq(\n    np.hstack((np.array([0.4, -0.3, 0.5]), random_quaternion(random_state))))\ncam2robot = transform_from_pq(\n    np.hstack((np.array([0.0, 0.0, 0.8]), q_id)))\nobject2cam = transform_from(\n    matrix_from_euler_xyz(np.array([0.0, 0.0, 0.5])), np.array([0.5, 0.1, 0.1]))\n\ntm = TransformManager()\ntm.add_transform(\"end-effector\", \"robot\", ee2robot)\ntm.add_transform(\"camera\", \"robot\", cam2robot)\ntm.add_transform(\"object\", \"camera\", object2cam)\n\nee2object = tm.get_transform(\"end-effector\", \"object\")\n\nax = tm.plot_frames_in(\"robot\", s=0.1)\nax.set_xlim((-0.25, 0.75))\nax.set_ylim((-0.5, 0.5))\nax.set_zlim((0.0, 1.0))\nplt.show()"
      ]
    }
  ],
  "metadata": {
    "kernelspec": {
      "display_name": "Python 3",
      "language": "python",
      "name": "python3"
    },
    "language_info": {
      "codemirror_mode": {
        "name": "ipython",
        "version": 3
      },
      "file_extension": ".py",
      "mimetype": "text/x-python",
      "name": "python",
      "nbconvert_exporter": "python",
      "pygments_lexer": "ipython3",
      "version": "3.7.3"
    }
  },
  "nbformat": 4,
  "nbformat_minor": 0
}